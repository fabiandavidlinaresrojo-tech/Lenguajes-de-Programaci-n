{
  "nbformat": 4,
  "nbformat_minor": 0,
  "metadata": {
    "colab": {
      "provenance": [],
      "include_colab_link": true
    },
    "kernelspec": {
      "name": "python3",
      "display_name": "Python 3"
    },
    "language_info": {
      "name": "python"
    }
  },
  "cells": [
    {
      "cell_type": "markdown",
      "metadata": {
        "id": "view-in-github",
        "colab_type": "text"
      },
      "source": [
        "<a href=\"https://colab.research.google.com/github/Maricielo-Gomez/Lenguajes-de-programacion/blob/main/TendenciaGoogle.ipynb\" target=\"_parent\"><img src=\"https://colab.research.google.com/assets/colab-badge.svg\" alt=\"Open In Colab\"/></a>"
      ]
    },
    {
      "cell_type": "markdown",
      "source": [
        "#**ANÁLISIS DE LA TENDENCIA DEL PRECIO DE LAS ACCIONES DE GOOGLE (GOOGL)**\n",
        "\n",
        "## **1. Introducción**\n",
        "- Planteamiento de la pregunta central:  \n",
        "  **¿El precio de Google ha mostrado tendencia creciente en el tiempo?**\n",
        "\n",
        "\n",
        "## **2. ¿Qué es un Ticker?**\n",
        "\n",
        "Un **ticker** es el código que representa una empresa en la bolsa.  \n",
        "\n",
        "\n",
        "El ticker de Google es:\n",
        "\n",
        "---\n",
        "| **Empresa / Índice**           | **Ticker** | **Descripción**                                   |\n",
        "| ------------------------------ | ---------- | ------------------------------------------------- |\n",
        "| Alphabet Inc. (Google)                     | `GOOGL`     | Matriz de Google                  |\n",
        "\n",
        "---\n",
        "\n",
        "## **3. Preparar el Entorno**\n",
        "\n",
        "Antes de escribir código, vamos a **instalar las librerías necesarias**:\n",
        "- `yfinance` → para traer datos de Yahoo Finance\n",
        "- `pandas` → permite trabajar con DataFrames\n",
        "- `matplotlib` → Para la visualización de datos en gráficos\n",
        "- `numpy` → para cálculos numéricos y operaciones con array"
      ],
      "metadata": {
        "id": "AMNOE2fEdNZG"
      }
    },
    {
      "cell_type": "code",
      "source": [
        "# Instalación de librerías\n",
        "!pip install yfinance plotly"
      ],
      "metadata": {
        "colab": {
          "base_uri": "https://localhost:8080/"
        },
        "id": "NJ-jCXwwynlO",
        "outputId": "0f40bd20-4554-4f0b-c57d-2cfeeff0ca94"
      },
      "execution_count": null,
      "outputs": [
        {
          "output_type": "stream",
          "name": "stdout",
          "text": [
            "Requirement already satisfied: yfinance in /usr/local/lib/python3.12/dist-packages (0.2.65)\n",
            "Requirement already satisfied: plotly in /usr/local/lib/python3.12/dist-packages (5.24.1)\n",
            "Requirement already satisfied: pandas>=1.3.0 in /usr/local/lib/python3.12/dist-packages (from yfinance) (2.2.2)\n",
            "Requirement already satisfied: numpy>=1.16.5 in /usr/local/lib/python3.12/dist-packages (from yfinance) (2.0.2)\n",
            "Requirement already satisfied: requests>=2.31 in /usr/local/lib/python3.12/dist-packages (from yfinance) (2.32.4)\n",
            "Requirement already satisfied: multitasking>=0.0.7 in /usr/local/lib/python3.12/dist-packages (from yfinance) (0.0.12)\n",
            "Requirement already satisfied: platformdirs>=2.0.0 in /usr/local/lib/python3.12/dist-packages (from yfinance) (4.4.0)\n",
            "Requirement already satisfied: pytz>=2022.5 in /usr/local/lib/python3.12/dist-packages (from yfinance) (2025.2)\n",
            "Requirement already satisfied: frozendict>=2.3.4 in /usr/local/lib/python3.12/dist-packages (from yfinance) (2.4.6)\n",
            "Requirement already satisfied: peewee>=3.16.2 in /usr/local/lib/python3.12/dist-packages (from yfinance) (3.18.2)\n",
            "Requirement already satisfied: beautifulsoup4>=4.11.1 in /usr/local/lib/python3.12/dist-packages (from yfinance) (4.13.5)\n",
            "Requirement already satisfied: curl_cffi>=0.7 in /usr/local/lib/python3.12/dist-packages (from yfinance) (0.13.0)\n",
            "Requirement already satisfied: protobuf>=3.19.0 in /usr/local/lib/python3.12/dist-packages (from yfinance) (5.29.5)\n",
            "Requirement already satisfied: websockets>=13.0 in /usr/local/lib/python3.12/dist-packages (from yfinance) (15.0.1)\n",
            "Requirement already satisfied: tenacity>=6.2.0 in /usr/local/lib/python3.12/dist-packages (from plotly) (8.5.0)\n",
            "Requirement already satisfied: packaging in /usr/local/lib/python3.12/dist-packages (from plotly) (25.0)\n",
            "Requirement already satisfied: soupsieve>1.2 in /usr/local/lib/python3.12/dist-packages (from beautifulsoup4>=4.11.1->yfinance) (2.8)\n",
            "Requirement already satisfied: typing-extensions>=4.0.0 in /usr/local/lib/python3.12/dist-packages (from beautifulsoup4>=4.11.1->yfinance) (4.15.0)\n",
            "Requirement already satisfied: cffi>=1.12.0 in /usr/local/lib/python3.12/dist-packages (from curl_cffi>=0.7->yfinance) (2.0.0)\n",
            "Requirement already satisfied: certifi>=2024.2.2 in /usr/local/lib/python3.12/dist-packages (from curl_cffi>=0.7->yfinance) (2025.8.3)\n",
            "Requirement already satisfied: python-dateutil>=2.8.2 in /usr/local/lib/python3.12/dist-packages (from pandas>=1.3.0->yfinance) (2.9.0.post0)\n",
            "Requirement already satisfied: tzdata>=2022.7 in /usr/local/lib/python3.12/dist-packages (from pandas>=1.3.0->yfinance) (2025.2)\n",
            "Requirement already satisfied: charset_normalizer<4,>=2 in /usr/local/lib/python3.12/dist-packages (from requests>=2.31->yfinance) (3.4.3)\n",
            "Requirement already satisfied: idna<4,>=2.5 in /usr/local/lib/python3.12/dist-packages (from requests>=2.31->yfinance) (3.10)\n",
            "Requirement already satisfied: urllib3<3,>=1.21.1 in /usr/local/lib/python3.12/dist-packages (from requests>=2.31->yfinance) (2.5.0)\n",
            "Requirement already satisfied: pycparser in /usr/local/lib/python3.12/dist-packages (from cffi>=1.12.0->curl_cffi>=0.7->yfinance) (2.23)\n",
            "Requirement already satisfied: six>=1.5 in /usr/local/lib/python3.12/dist-packages (from python-dateutil>=2.8.2->pandas>=1.3.0->yfinance) (1.17.0)\n"
          ]
        }
      ]
    },
    {
      "cell_type": "code",
      "source": [
        "# Importación de librerías\n",
        "import yfinance as yf\n",
        "import pandas as pd\n",
        "import matplotlib.pyplot as plt\n",
        "import numpy as np\n",
        "\n",
        "print(\"Librerías cargadas correctamente ✅\")\n"
      ],
      "metadata": {
        "colab": {
          "base_uri": "https://localhost:8080/"
        },
        "id": "kniHdGqWJYqo",
        "outputId": "779a26be-f319-4aa3-ce8a-1a790dda2f55"
      },
      "execution_count": 18,
      "outputs": [
        {
          "output_type": "stream",
          "name": "stdout",
          "text": [
            "Librerías cargadas correctamente ✅\n"
          ]
        }
      ]
    },
    {
      "cell_type": "markdown",
      "source": [
        "---\n",
        "\n",
        "## **4. Recolección de datos con yfinance**\n",
        "\n",
        "Para analizar la tendencia del precio de Google, necesitamos extraer información histórica.  \n",
        "La librería `yfinance` nos permite hacerlo de forma sencilla.\n",
        "\n",
        "### **4.1. Creación del objeto**\n",
        "\n",
        "Cuando usamos `yfinance`, creamos un objeto que contiene toda la información de esa empresa:\n",
        "\n",
        "```python\n",
        "google = yf.Ticker(\"GOOGL\")"
      ],
      "metadata": {
        "id": "xk0hMu7dLRwl"
      }
    },
    {
      "cell_type": "markdown",
      "source": [
        "\n",
        "\n",
        "### **4.2. Funciones más útiles para el análisis:**\n",
        "\n",
        "| Función / Método           | Para qué sirve                                 | Ejemplo |\n",
        "|-----------------------------|-----------------------------------------------|---------|\n",
        "| `yf.Ticker(\"GOOGL\")`       | Crea un objeto con toda la información de Google | `google = yf.Ticker(\"GOOGL\")` |\n",
        "| `.history(period=\"5y\")`    | Descarga precios históricos (ej. últimos 5 años) | `google.history(period=\"5y\")` |\n",
        "| `.info`                    | Información general de la empresa              | `google.info` |\n",
        "\n",
        "\n",
        "\n",
        "💡 **Tip:** Para responder nuestra pregunta central (¿El precio de Google ha mostrado tendencia creciente?), el método más importante es .history(), porque nos devuelve los precios de cierre diarios\n"
      ],
      "metadata": {
        "id": "7Yn9j1bHylux"
      }
    },
    {
      "cell_type": "markdown",
      "source": [
        "### 4.3. Extracción de datos históricos de Google\n",
        "\n",
        "Con el objeto `google = yf.Ticker(\"GOOGL\")` usamos el método `.history()` para obtener precios de apertura, cierre, máximos, mínimos y volumen.  \n",
        "En este caso descargamos los precios de cierre de los últimos **5 años**, base para analizar la tendencia.\n"
      ],
      "metadata": {
        "id": "g_u0FSZKzsSs"
      }
    },
    {
      "cell_type": "code",
      "source": [
        "google = yf.Ticker(\"GOOGL\")\n",
        "data = round(google.history(period=\"5y\")[\"Close\"],2)\n",
        "data.head()"
      ],
      "metadata": {
        "colab": {
          "base_uri": "https://localhost:8080/",
          "height": 272
        },
        "id": "EXFG33vQ1NeY",
        "outputId": "4626f2c4-c72b-4fbb-e95c-d8e9324651c2"
      },
      "execution_count": 19,
      "outputs": [
        {
          "output_type": "execute_result",
          "data": {
            "text/plain": [
              "Date\n",
              "2020-09-16 00:00:00-04:00    75.09\n",
              "2020-09-17 00:00:00-04:00    73.84\n",
              "2020-09-18 00:00:00-04:00    72.06\n",
              "2020-09-21 00:00:00-04:00    71.02\n",
              "2020-09-22 00:00:00-04:00    72.49\n",
              "Name: Close, dtype: float64"
            ],
            "text/html": [
              "<div>\n",
              "<style scoped>\n",
              "    .dataframe tbody tr th:only-of-type {\n",
              "        vertical-align: middle;\n",
              "    }\n",
              "\n",
              "    .dataframe tbody tr th {\n",
              "        vertical-align: top;\n",
              "    }\n",
              "\n",
              "    .dataframe thead th {\n",
              "        text-align: right;\n",
              "    }\n",
              "</style>\n",
              "<table border=\"1\" class=\"dataframe\">\n",
              "  <thead>\n",
              "    <tr style=\"text-align: right;\">\n",
              "      <th></th>\n",
              "      <th>Close</th>\n",
              "    </tr>\n",
              "    <tr>\n",
              "      <th>Date</th>\n",
              "      <th></th>\n",
              "    </tr>\n",
              "  </thead>\n",
              "  <tbody>\n",
              "    <tr>\n",
              "      <th>2020-09-16 00:00:00-04:00</th>\n",
              "      <td>75.09</td>\n",
              "    </tr>\n",
              "    <tr>\n",
              "      <th>2020-09-17 00:00:00-04:00</th>\n",
              "      <td>73.84</td>\n",
              "    </tr>\n",
              "    <tr>\n",
              "      <th>2020-09-18 00:00:00-04:00</th>\n",
              "      <td>72.06</td>\n",
              "    </tr>\n",
              "    <tr>\n",
              "      <th>2020-09-21 00:00:00-04:00</th>\n",
              "      <td>71.02</td>\n",
              "    </tr>\n",
              "    <tr>\n",
              "      <th>2020-09-22 00:00:00-04:00</th>\n",
              "      <td>72.49</td>\n",
              "    </tr>\n",
              "  </tbody>\n",
              "</table>\n",
              "</div><br><label><b>dtype:</b> float64</label>"
            ]
          },
          "metadata": {},
          "execution_count": 19
        }
      ]
    },
    {
      "cell_type": "markdown",
      "source": [
        "## **5. Análisis de la estabilidad y tendencia del precio de Google**\n",
        "\n",
        "### **5.1. Cálculo de estadísticos básicos**\n",
        "\n",
        "Se calcula la media y la desviación estándar del precio de cierre:\n",
        "\n",
        "*   Media: promedio de los precios, referencia del nivel general\n",
        "*   Desviación estándar: indica la dispersión de los precios, útil para medir volatilidad.\n"
      ],
      "metadata": {
        "id": "JLjWnZXQ4Sdr"
      }
    },
    {
      "cell_type": "code",
      "source": [
        "media = data.mean()\n",
        "desv = data.std()\n",
        "print(f\"Media del precio de cierre: {media:.2f} USD\")\n",
        "print(f\"Desviación estándar: {desv:.2f} USD\")"
      ],
      "metadata": {
        "colab": {
          "base_uri": "https://localhost:8080/"
        },
        "id": "eq6FM0tr5m52",
        "outputId": "54977d9b-d06f-4924-c74f-c347e9a27d0e"
      },
      "execution_count": null,
      "outputs": [
        {
          "output_type": "stream",
          "name": "stdout",
          "text": [
            "Media del precio de cierre: 133.97 USD\n",
            "Desviación estándar: 32.87 USD\n"
          ]
        }
      ]
    },
    {
      "cell_type": "markdown",
      "source": [
        "### **5.2. Evaluación de la volatilidad**\n",
        "\n",
        "Conocer la volatilidad permite entender el riesgo y la estabilidad de la acción antes de tomar decisiones de inversión o analizar tendencias a largo plazo.\n",
        "\n",
        "A partir de la desviación estándar se evalúa la volatilidad:\n",
        "\n",
        "Desviación baja → la acción es estable, con cambios suaves en el precio.\n",
        "\n",
        "Desviación alta → la acción es volátil, con subidas y bajadas pronunciadas.\n"
      ],
      "metadata": {
        "id": "O5zyKbUR6rfB"
      }
    },
    {
      "cell_type": "code",
      "source": [
        "if desv < 10:\n",
        "    print(\"La acción es estable\")\n",
        "else:\n",
        "    print(\"La acción es volátil📈📉\")\n"
      ],
      "metadata": {
        "colab": {
          "base_uri": "https://localhost:8080/"
        },
        "id": "q4vFNbAx7UrQ",
        "outputId": "f20c788d-a227-4640-ece3-36feb53e412f"
      },
      "execution_count": null,
      "outputs": [
        {
          "output_type": "stream",
          "name": "stdout",
          "text": [
            "La acción es volátil📈📉\n"
          ]
        }
      ]
    },
    {
      "cell_type": "markdown",
      "source": [
        "### **5.4. Visualización de la tendencia del precio de Google**\n",
        "A continuación veremos cómo ha evolucionado el precio de cierre de Google a lo largo de los últimos 5 años."
      ],
      "metadata": {
        "id": "jyo9HboJ9Www"
      }
    },
    {
      "cell_type": "code",
      "source": [
        "from sklearn.linear_model import LinearRegression\n",
        "\n",
        "# Convertir a DataFrame y resetear índice\n",
        "df = data.reset_index()  # 'Date' pasa a columna\n",
        "df['Days'] = np.arange(len(df))  # número de días\n",
        "X = df[['Days']]  # variable independiente\n",
        "y = df['Close']   # variable dependiente\n",
        "\n",
        "# Ajustar regresión lineal\n",
        "model = LinearRegression()\n",
        "model.fit(X, y)\n",
        "y_pred = model.predict(X)  # predicciones de la tendencia\n",
        "\n",
        "# Graficar precios reales y tendencia\n",
        "plt.figure(figsize=(10,5))\n",
        "plt.plot(df['Date'], y, label='Precio real', color='magenta')\n",
        "plt.plot(df['Date'], y_pred, label='Tendencia lineal', color='green', linestyle='-')\n",
        "plt.title(\"Precio de Cierre Google (GOOGL) con Tendencia\")\n",
        "plt.xlabel(\"Fecha\")\n",
        "plt.ylabel(\"Precio (USD)\")\n",
        "plt.grid(True)\n",
        "plt.legend()\n",
        "plt.show()\n"
      ],
      "metadata": {
        "colab": {
          "base_uri": "https://localhost:8080/",
          "height": 459
        },
        "id": "wHreoolu9eN6",
        "outputId": "1054aa92-5665-4a7b-a6e9-2d9c4c62c255"
      },
      "execution_count": 29,
      "outputs": [
        {
          "output_type": "display_data",
          "data": {
            "text/plain": [
              "<Figure size 1000x500 with 1 Axes>"
            ],
            "image/png": "[encoded data removed]"
          },
          "metadata": {}
        }
      ]
    },
    {
      "cell_type": "markdown",
      "source": [
        "#### **Cálculo de la pendiente**\n",
        " La pendiente indica cuánto cambia la variable dependiente, en este caso el precio por acción de Google, en el tiempo:\n",
        "\n",
        "*   Si la pendiente es postiva, la relación es creciente.\n",
        "*   Si es negativa, la relación es decreciente\n",
        "*   Si es cercana a cero, no hay una tendencia clara.\n",
        "\n",
        "\n"
      ],
      "metadata": {
        "id": "T5UWjpRNFW28"
      }
    },
    {
      "cell_type": "code",
      "source": [
        "slope = model.coef_[0]\n",
        "print(\"Pendiente:\", round(slope, 2))\n",
        "if slope > 0:\n",
        "    print(\"El precio de Google muestra una tendencia creciente.\")\n",
        "else:\n",
        "    print(\"El precio de Google no muestra una tendencia creciente.\")"
      ],
      "metadata": {
        "colab": {
          "base_uri": "https://localhost:8080/"
        },
        "id": "GWit-hVyFJQD",
        "outputId": "7d95f928-ad5f-42c4-af2c-7243b42b6c54"
      },
      "execution_count": 37,
      "outputs": [
        {
          "output_type": "stream",
          "name": "stdout",
          "text": [
            "Pendiente: 0.07\n",
            "El precio de Google muestra una tendencia creciente.\n"
          ]
        }
      ]
    },
    {
      "cell_type": "markdown",
      "source": [
        "#### **Análisis**\n",
        "\n",
        "En el gráfico podemos ver dos líneas clave:\n",
        "*   Precio real: Es una línea irregular que refleja la volatidad de la acción.\n",
        "*   Tendencia lineal: Es una regresión lineal que suaviza las fluctuaciones y muestra la dirección general del precio en los últimos 5 años.\n",
        "\n",
        "A la pregunta **¿El precio de Google ha mostrado tendencia creciente en el tiempo?** podemos afirmar que **sí**, ya que la pendiente de la línea de tendencia es positiva. Esto significa que, a pesar de la volatilidad del precio real de la acción de Google, esta ha seguido una trayectoria ascendente en el largo plazo.\n",
        "\n"
      ],
      "metadata": {
        "id": "P6vRUslBCRlg"
      }
    }
  ]
}