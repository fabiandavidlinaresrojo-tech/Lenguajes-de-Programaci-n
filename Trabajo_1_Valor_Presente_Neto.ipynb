{
  "nbformat": 4,
  "nbformat_minor": 0,
  "metadata": {
    "colab": {
      "provenance": []
    },
    "kernelspec": {
      "name": "python3",
      "display_name": "Python 3"
    },
    "language_info": {
      "name": "python"
    }
  },
  "cells": [
    {
      "cell_type": "markdown",
      "source": [
        "# Valor Presente Neto (VPN)\n",
        "\n",
        "El Valor Presente Neto (VPN), también conocido como Valor Actual Neto (VAN), es un método financiero que calcula la diferencia entre el valor actual de los flujos de efectivo futuros que genera una inversión o proyecto, y su inversión inicial. Su objetivo principal es evaluar la rentabilidad de un proyecto al considerar la pérdida del valor del dinero en el tiempo, determinando si la inversión generará ganancias (VPN positivo) o pérdidas (VPN negativo)."
      ],
      "metadata": {
        "id": "47oEtCvYYSbb"
      }
    },
    {
      "cell_type": "markdown",
      "source": [
        "## Fórmula del Valor Presente Neto\n",
        "\n",
        "La fórmula del VPN se expresa de la siguiente manera:\n",
        "\n",
        "\\[\n",
        "$$\n",
        "VPN = \\sum_{t=0}^{n} \\frac{C_t}{(1+r)^t} - C_0\n",
        "$$\n",
        "\n",
        "\\]\n",
        "\n",
        "Donde:\n",
        "- \\(C_t\\) es el flujo de caja en el tiempo \\(t\\).\n",
        "- \\(r\\) es la tasa de descuento.\n",
        "- \\(n\\) es el número total de periodos.\n",
        "- \\(C_0\\) es la inversión inicial."
      ],
      "metadata": {
        "id": "0c_s8jWHZAz3"
      }
    },
    {
      "cell_type": "markdown",
      "source": [
        "### Enlace Útil\n",
        "Para obtener más información sobre el valor presente neto, puede consultar el siguiente [enlace](https://www.gerencie.com/valor-presente-neto.html)."
      ],
      "metadata": {
        "id": "WN7sgqOAgQNg"
      }
    },
    {
      "cell_type": "markdown",
      "source": [
        "#### Descripción del Proyecto\n",
        "Una empresa está considerando un proyecto con una inversión inicial de 10.000 y espera recibir flujos de caja de 3.000 en cada uno de los próximos tres años. La tasa de descuento es del 5%. Se debe determinar si el proyecto es viable."
      ],
      "metadata": {
        "id": "M1PUmXt2aLFV"
      }
    },
    {
      "cell_type": "code",
      "source": [
        "inversion_inicial = 10000\n",
        "flujo_ano_1 = 3000\n",
        "flujo_ano_2 = 3000\n",
        "flujo_ano_3 = 3000\n",
        "tasa_descuento = 0.05"
      ],
      "metadata": {
        "id": "dcvohf-Ybs93"
      },
      "execution_count": 11,
      "outputs": []
    },
    {
      "cell_type": "code",
      "source": [
        "vpn = (flujo_ano_1 / (1 + tasa_descuento)**1) + \\\n",
        " (flujo_ano_2 / (1 + tasa_descuento)**2) + \\\n",
        "  (flujo_ano_3 / (1 + tasa_descuento)**3) - inversion_inicial\n",
        "print(\"El Valor Presente Neto (VPN) es\",vpn)"
      ],
      "metadata": {
        "colab": {
          "base_uri": "https://localhost:8080/"
        },
        "id": "Khwo60-ncCk5",
        "outputId": "b3db6fff-49ec-4245-f20e-f7d19523b0e9"
      },
      "execution_count": 12,
      "outputs": [
        {
          "output_type": "stream",
          "name": "stdout",
          "text": [
            "El Valor Presente Neto (VPN) es -1830.2559118885656\n"
          ]
        }
      ]
    },
    {
      "cell_type": "code",
      "source": [
        "if vpn > 0:\n",
        "  print(\"El proyecto es viable, ya que el VPN es positivo.\")\n",
        "else:\n",
        "  print(\"El proyecto no es viable, ya que el VPN es negativo.\")"
      ],
      "metadata": {
        "colab": {
          "base_uri": "https://localhost:8080/"
        },
        "id": "12ZZovPMc23K",
        "outputId": "c2a22121-e307-47ae-e9aa-05a786cf543d"
      },
      "execution_count": 13,
      "outputs": [
        {
          "output_type": "stream",
          "name": "stdout",
          "text": [
            "El proyecto no es viable, ya que el VPN es negativo.\n"
          ]
        }
      ]
    },
    {
      "cell_type": "markdown",
      "source": [
        "#### Interpretación del resultado\n",
        "Para este caso el proyecto no es viable, debido a que el VPN arrojó un valor negativo."
      ],
      "metadata": {
        "id": "ZWv0h3ndd0UH"
      }
    }
  ]
}